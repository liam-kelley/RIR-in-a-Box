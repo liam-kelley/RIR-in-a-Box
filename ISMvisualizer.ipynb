{
 "cells": [
  {
   "cell_type": "code",
   "execution_count": 6,
   "metadata": {},
   "outputs": [],
   "source": [
    "import ipywidgets as widgets\n",
    "from ipywidgets import interact, HBox, VBox\n",
    "import matplotlib.pyplot as plt\n",
    "from mpl_toolkits.mplot3d import Axes3D\n",
    "import pyroomacoustics as pra\n",
    "import numpy as np\n",
    "import random\n",
    "# from matplotlib.widgets import RectangleSelector"
   ]
  },
  {
   "cell_type": "code",
   "execution_count": 7,
   "metadata": {},
   "outputs": [
    {
     "data": {
      "application/vnd.jupyter.widget-view+json": {
       "model_id": "06b6bd7be3504a8084dc7b5701325aa2",
       "version_major": 2,
       "version_minor": 0
      },
      "text/plain": [
       "HBox(children=(VBox(children=(FloatSlider(value=5.3, description='Room X:', max=20.0, min=1.0), FloatSlider(va…"
      ]
     },
     "metadata": {},
     "output_type": "display_data"
    }
   ],
   "source": [
    "def plot_room_and_positions(room_x, room_y, room_z, mic_x, mic_y, mic_z, src_x, src_y, src_z):\n",
    "    mic_x, mic_y, mic_z = mic_x * room_x, mic_y * room_y, mic_z * room_z\n",
    "    src_x, src_y, src_z = src_x * room_x, src_y * room_y, src_z * room_z\n",
    "    fig = plt.figure(figsize=(10, 7))\n",
    "    # Plot the room and positions\n",
    "    ax1 = fig.add_subplot(121, projection='3d')\n",
    "    # Room dimensions\n",
    "    ax1.plot([0, room_x, room_x, 0, 0], [0, 0, room_y, room_y, 0], [0, 0, 0, 0, 0], color='b')  # Bottom face\n",
    "    ax1.plot([0, room_x, room_x, 0, 0], [0, 0, room_y, room_y, 0], [room_z, room_z, room_z, room_z, room_z], color='b')  # Top face\n",
    "    ax1.plot([0, 0], [0, 0], [0, room_z], color='b')  # 4 vertical lines\n",
    "    ax1.plot([room_x, room_x], [0, 0], [0, room_z], color='b')\n",
    "    ax1.plot([room_x, room_x], [room_y, room_y], [0, room_z], color='b')\n",
    "    ax1.plot([0, 0], [room_y, room_y], [0, room_z], color='b')\n",
    "    # Microphone position\n",
    "    ax1.scatter(mic_x, mic_y, mic_z, c='r', label='Mic')\n",
    "    # Source position\n",
    "    ax1.scatter(src_x, src_y, src_z, c='g', label='Source')\n",
    "    ax1.set_xlabel('X')\n",
    "    ax1.set_ylabel('Y')\n",
    "    ax1.set_zlabel('Z')\n",
    "    ax1.set_title('Room and Positions')\n",
    "    ax1.legend()\n",
    "    ax1.set_xlim([0, 10])\n",
    "    ax1.set_ylim([0, 10])\n",
    "    ax1.set_zlim([0, 10])\n",
    "\n",
    "    # Generate and plot the RIR\n",
    "    room = pra.ShoeBox([room_x, room_y, room_z], absorption=0.3, max_order=15)\n",
    "    room.add_source([src_x, src_y, src_z])\n",
    "    mic = pra.MicrophoneArray(np.array([[mic_x, mic_y, mic_z]]).T, fs=room.fs)\n",
    "    room.add_microphone_array(mic)\n",
    "    room.compute_rir()\n",
    "    rir = room.rir[0][0]\n",
    "    ax2 = fig.add_subplot(122)\n",
    "\n",
    "    mic_position = np.array([mic_x, mic_y, mic_z])\n",
    "    src_position = np.array([src_x, src_y, src_z])\n",
    "    # Compute Euclidean distance\n",
    "    distance = np.linalg.norm(mic_position - src_position)\n",
    "    # Compute time delay\n",
    "    time_delay = distance / 343.0  # Speed of sound in air at room temperature\n",
    "    # Compute samples delay\n",
    "    samples_delay = int(np.round(time_delay * room.fs))\n",
    "    ax2.plot(np.arange(len(rir)), abs(rir))\n",
    "    ax2.set_xlim(0, 2000)\n",
    "    ax2.set_ylim(-0.05, 1)\n",
    "    ax2.set_title('Room Impulse Response')\n",
    "    plt.tight_layout()\n",
    "    plt.show()\n",
    "\n",
    "# Define sliders\n",
    "room_x_slider = widgets.FloatSlider(value=5.3, min=1, max=20, step=0.1, description='Room X:')\n",
    "room_y_slider = widgets.FloatSlider(value=4.2, min=1, max=20, step=0.1, description='Room Y:')\n",
    "room_z_slider = widgets.FloatSlider(value=3.1, min=1, max=100, step=0.1, description='Room Z:')\n",
    "mic_x_slider = widgets.FloatSlider(value=random.random(), min=0, max=1.0, step=0.01, description='Mic X:')\n",
    "mic_y_slider = widgets.FloatSlider(value=random.random(), min=0, max=1.0, step=0.01, description='Mic Y:')\n",
    "mic_z_slider = widgets.FloatSlider(value=0.5, min=0, max=1.0, step=0.01, description='Mic Z:')\n",
    "src_x_slider = widgets.FloatSlider(value=random.random(), min=0, max=1.0, step=0.01, description='Src X:')\n",
    "src_y_slider = widgets.FloatSlider(value=random.random(), min=0, max=1.0, step=0.01, description='Src Y:')\n",
    "src_z_slider = widgets.FloatSlider(value=0.5, min=0, max=1.0, step=0.01, description='Src Z:')\n",
    "\n",
    "# Arrange sliders in a vertical box\n",
    "slider_box = VBox([room_x_slider, room_y_slider, room_z_slider, mic_x_slider, mic_y_slider, mic_z_slider, src_x_slider, src_y_slider, src_z_slider])\n",
    "\n",
    "# Create interactive plot\n",
    "output = widgets.interactive_output(plot_room_and_positions, {\n",
    "    'room_x': room_x_slider,\n",
    "    'room_y': room_y_slider,\n",
    "    'room_z': room_z_slider,\n",
    "    'mic_x': mic_x_slider,\n",
    "    'mic_y': mic_y_slider,\n",
    "    'mic_z': mic_z_slider,\n",
    "    'src_x': src_x_slider,\n",
    "    'src_y': src_y_slider,\n",
    "    'src_z': src_z_slider,\n",
    "})\n",
    "\n",
    "# Display sliders and plot side by side\n",
    "display(HBox([slider_box, output]))"
   ]
  }
 ],
 "metadata": {
  "kernelspec": {
   "display_name": "Python 3",
   "language": "python",
   "name": "python3"
  },
  "language_info": {
   "codemirror_mode": {
    "name": "ipython",
    "version": 3
   },
   "file_extension": ".py",
   "mimetype": "text/x-python",
   "name": "python",
   "nbconvert_exporter": "python",
   "pygments_lexer": "ipython3",
   "version": "3.8.10"
  }
 },
 "nbformat": 4,
 "nbformat_minor": 2
}
