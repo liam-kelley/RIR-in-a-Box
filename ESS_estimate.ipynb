{
 "cells": [
  {
   "cell_type": "code",
   "execution_count": null,
   "metadata": {},
   "outputs": [],
   "source": [
    "from scipy.signal import butter, lfilter, fftconvolve\n",
    "\n",
    "def create_system_response(excitation, fs, noise_std=0.12):\n",
    "    # Design a Butterworth filter\n",
    "    B, A = butter(10, [0.1, 0.7], fs=fs)\n",
    "    \n",
    "    # Pass the excitation signal through the filter\n",
    "    system_response = lfilter(B, A, excitation)\n",
    "    \n",
    "    # Add noise to the system response\n",
    "    noisy_response = system_response + noise_std * np.random.randn(*system_response.shape)\n",
    "    \n",
    "    return noisy_response, B, A\n",
    "\n",
    "# Generate the system response\n",
    "system_response, B, A = create_system_response(sweep, fs)\n"
   ]
  },
  {
   "cell_type": "code",
   "execution_count": null,
   "metadata": {},
   "outputs": [],
   "source": [
    "plt.figure()\n",
    "plt.plot(system_response)\n",
    "plt.title('System Response')\n",
    "plt.xlabel('Time [s]')\n",
    "plt.ylabel('Amplitude')\n",
    "plt.grid(True)\n",
    "plt.show()"
   ]
  },
  {
   "cell_type": "markdown",
   "metadata": {},
   "source": [
    "def estimate_impulse_response(excitation, response, fs):\n",
    "    # Estimate the impulse response using the deconvolution\n",
    "    impulse_response, remainder = fftconvolve(response, excitation[::-1], mode='full')[:len(excitation)]\n",
    "    \n",
    "    # Normalize the impulse response\n",
    "    impulse_response /= np.max(np.abs(impulse_response))\n",
    "    \n",
    "    return impulse_response\n",
    "\n",
    "# Estimate the impulse response\n",
    "estimated_ir = estimate_impulse_response(sweep, system_response, fs)\n",
    "\n",
    "# Get the true impulse response of the system\n",
    "true_ir = lfilter([1], B, A, zi=np.zeros(A.shape[0]-1))[0]\n",
    "\n",
    "# Plot the true and estimated impulse responses\n",
    "plt.figure()\n",
    "plt.plot(estimated_ir, label='Estimated impulse response')\n",
    "plt.plot(true_ir, 'ro', label='True impulse response')\n",
    "plt.legend()\n",
    "plt.title('True and Estimated Impulse Responses')\n",
    "plt.xlabel('Sample')\n",
    "plt.ylabel('Amplitude')\n",
    "plt.grid(True)\n",
    "plt.show()"
   ]
  }
 ],
 "metadata": {
  "language_info": {
   "name": "python"
  }
 },
 "nbformat": 4,
 "nbformat_minor": 2
}
