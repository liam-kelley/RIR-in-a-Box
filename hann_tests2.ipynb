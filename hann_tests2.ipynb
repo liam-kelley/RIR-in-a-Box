{
 "cells": [
  {
   "cell_type": "code",
   "execution_count": 1,
   "metadata": {},
   "outputs": [],
   "source": [
    "import torch\n",
    "import math\n",
    "import matplotlib.pyplot as plt\n",
    "import numpy as np\n",
    "import scipy.signal"
   ]
  },
  {
   "cell_type": "code",
   "execution_count": null,
   "metadata": {},
   "outputs": [],
   "source": [
    "def hann_window(delay_filter_length):\n",
    "    my_arange_tensor = np.arange(delay_filter_length, dtype=np.float32)\n",
    "    # return 0.5 * (1 - np.cos(2 * np.pi * my_arange_tensor / (delay_filter_length - 1)))\n",
    "    return 0.5 * (1 + np.cos(math.pi * my_arange_tensor / (delay_filter_length//2)))"
   ]
  }
 ],
 "metadata": {
  "kernelspec": {
   "display_name": "Python 3",
   "language": "python",
   "name": "python3"
  },
  "language_info": {
   "codemirror_mode": {
    "name": "ipython",
    "version": 3
   },
   "file_extension": ".py",
   "mimetype": "text/x-python",
   "name": "python",
   "nbconvert_exporter": "python",
   "pygments_lexer": "ipython3",
   "version": "3.8.10"
  }
 },
 "nbformat": 4,
 "nbformat_minor": 2
}
