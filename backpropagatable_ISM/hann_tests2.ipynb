{
 "cells": [
  {
   "cell_type": "code",
   "execution_count": null,
   "metadata": {},
   "outputs": [],
   "source": [
    "import torch\n",
    "import math\n",
    "import matplotlib.pyplot as plt\n",
    "import numpy as np\n",
    "import scipy.signal"
   ]
  },
  {
   "cell_type": "code",
   "execution_count": null,
   "metadata": {},
   "outputs": [],
   "source": [
    "def create_signal_of_diracs(length=16000, num_diracs=20):\n",
    "    signal = torch.zeros(length)\n",
    "    for _ in range(num_diracs):\n",
    "        idx = np.random.randint(0, length)\n",
    "        amplitude = np.random.uniform(0, 1)\n",
    "        signal[idx] = amplitude\n",
    "    return signal"
   ]
  },
  {
   "cell_type": "code",
   "execution_count": null,
   "metadata": {},
   "outputs": [],
   "source": [
    "signal = create_signal_of_diracs(length=3968, num_diracs=560)"
   ]
  },
  {
   "cell_type": "markdown",
   "metadata": {},
   "source": [
    "# Part 1 : Windowed sinc filter"
   ]
  },
  {
   "cell_type": "code",
   "execution_count": null,
   "metadata": {},
   "outputs": [],
   "source": [
    "def get_window_length(fs=16000, center_frequency=1000):\n",
    "    filter_transition_band = center_frequency / 5 # a good approximation.\n",
    "    filter_order = fs / filter_transition_band # a good approximation.\n",
    "    window_length = (filter_order // 2)*2  + 1\n",
    "    return window_length"
   ]
  },
  {
   "cell_type": "code",
   "execution_count": null,
   "metadata": {},
   "outputs": [],
   "source": [
    "def hann_window(window_length):\n",
    "    n = torch.arange(window_length)\n",
    "    return 0.5 * (1 - torch.cos(2 * np.pi * n / window_length))"
   ]
  },
  {
   "cell_type": "code",
   "execution_count": null,
   "metadata": {},
   "outputs": [],
   "source": [
    "def LP_filter(fs, freq_cutoff):\n",
    "    '''\n",
    "    windowed sinc filter\n",
    "    '''\n",
    "    window_length = get_window_length(fs, center_frequency=freq_cutoff/2)\n",
    "    print(\"window_length :\", window_length)\n",
    "    \n",
    "    # Get hann\n",
    "    hanning = hann_window(window_length)\n",
    "    print(hanning.shape)\n",
    "\n",
    "    # Get sinc\n",
    "    n = torch.arange(window_length)\n",
    "    nyquist_f = fs / 2\n",
    "    f_c_normalized = freq_cutoff / nyquist_f\n",
    "    sinc = f_c_normalized * torch.special.sinc( (n - window_length//2) * f_c_normalized)\n",
    "    print(sinc.shape)\n",
    "    windowed_sinc = sinc * hanning\n",
    "\n",
    "    \n",
    "    return windowed_sinc"
   ]
  },
  {
   "cell_type": "code",
   "execution_count": null,
   "metadata": {},
   "outputs": [],
   "source": [
    "windowed_sinc = LP_filter(fs=16000, freq_cutoff=2000)\n",
    "plt.plot(windowed_sinc)"
   ]
  },
  {
   "cell_type": "code",
   "execution_count": null,
   "metadata": {},
   "outputs": [],
   "source": [
    "lp_filtered_signal = scipy.signal.convolve(signal, windowed_sinc, mode='same')\n",
    "plt.plot(signal)\n",
    "plt.plot(lp_filtered_signal)"
   ]
  },
  {
   "cell_type": "code",
   "execution_count": null,
   "metadata": {},
   "outputs": [],
   "source": [
    "f, t, Zxx1 = scipy.signal.stft(lp_filtered_signal, fs=16000, nperseg=256)\n",
    "\n",
    "# plt.figure(figsize=(10, 6))\n",
    "# plt.pcolormesh(t, f, np.abs(Zxx1), shading='gouraud')\n",
    "# plt.title(\"STFT Magnitude of Diracs - Diracs Hann\")\n",
    "# plt.ylabel('Frequency [Hz]')\n",
    "# plt.xlabel('Time [sec]')\n",
    "# plt.colorbar(label='Magnitude')\n",
    "# plt.show()"
   ]
  },
  {
   "cell_type": "markdown",
   "metadata": {},
   "source": [
    "# Part 2 : Band pass filter"
   ]
  },
  {
   "cell_type": "code",
   "execution_count": null,
   "metadata": {},
   "outputs": [],
   "source": [
    "def BP_filter(fs, fc_high, fc_low):\n",
    "    # window_length = 4 * int(fs / (fc_high- fc_low)) + 1\n",
    "    window_length = get_window_length(center_frequency=(fc_high + fc_low) / 2)\n",
    "    # print(\"window_length :\", window_length)\n",
    "    \n",
    "    # Generate the indices for the filter coefficients\n",
    "    n = torch.arange(window_length) - window_length // 2\n",
    "\n",
    "    # Generate the low pass filter (windowed sinc)\n",
    "    half_bandwidth = (fc_high - fc_low)/2\n",
    "    nyquist_fs = fs / 2\n",
    "    sinc = 2 * half_bandwidth / nyquist_fs * torch.sinc(half_bandwidth * n / nyquist_fs) # we have to multiply by 2 because when translating, we get the energy of all negative frequencies!\n",
    "    h_lp = sinc * hann_window(window_length)\n",
    "\n",
    "    # Frequency shift to convert low pass to band pass\n",
    "    fc_center = (fc_high + fc_low) / 2\n",
    "    h_bp = h_lp * torch.cos(2 * np.pi * fc_center * n / fs)\n",
    "\n",
    "    return h_bp\n",
    "    "
   ]
  },
  {
   "cell_type": "code",
   "execution_count": null,
   "metadata": {},
   "outputs": [],
   "source": [
    "h_bp = BP_filter(16000, 2000,0)\n",
    "plt.plot(h_bp)"
   ]
  },
  {
   "cell_type": "code",
   "execution_count": null,
   "metadata": {},
   "outputs": [],
   "source": [
    "bp_filtered_signal = scipy.signal.convolve(signal, h_bp, mode='same')\n",
    "plt.plot(signal)\n",
    "plt.plot(bp_filtered_signal)"
   ]
  },
  {
   "cell_type": "code",
   "execution_count": null,
   "metadata": {},
   "outputs": [],
   "source": [
    "f, t, Zxx2 = scipy.signal.stft(np.array(bp_filtered_signal, dtype=float), 16000, nperseg=256)\n",
    "\n",
    "plt.figure(figsize=(10, 6))\n",
    "plt.pcolormesh(t, f, np.abs(Zxx2), shading='gouraud')\n",
    "plt.title(\"STFT Magnitude of Diracs - Diracs Hann\")\n",
    "plt.ylabel('Frequency [Hz]')\n",
    "plt.xlabel('Time [sec]')\n",
    "plt.colorbar(label='Magnitude')\n",
    "plt.show()"
   ]
  },
  {
   "cell_type": "code",
   "execution_count": null,
   "metadata": {},
   "outputs": [],
   "source": [
    "plt.plot(lp_filtered_signal-bp_filtered_signal)\n",
    "plt.ylim(-0.1, 0.1)"
   ]
  },
  {
   "cell_type": "code",
   "execution_count": null,
   "metadata": {},
   "outputs": [],
   "source": [
    "# plt.figure(figsize=(10, 6))\n",
    "# plt.pcolormesh(t, f, np.abs(Zxx2)-np.abs(Zxx1), shading='gouraud')\n",
    "# plt.title(\"STFT Magnitude of Diracs - Diracs Hann\")\n",
    "# plt.ylabel('Frequency [Hz]')\n",
    "# plt.xlabel('Time [sec]')\n",
    "# plt.colorbar(label='Magnitude')\n",
    "# plt.show()"
   ]
  }
 ],
 "metadata": {
  "kernelspec": {
   "display_name": "Python 3",
   "language": "python",
   "name": "python3"
  },
  "language_info": {
   "codemirror_mode": {
    "name": "ipython",
    "version": 3
   },
   "file_extension": ".py",
   "mimetype": "text/x-python",
   "name": "python",
   "nbconvert_exporter": "python",
   "pygments_lexer": "ipython3",
   "version": "3.8.10"
  }
 },
 "nbformat": 4,
 "nbformat_minor": 2
}
