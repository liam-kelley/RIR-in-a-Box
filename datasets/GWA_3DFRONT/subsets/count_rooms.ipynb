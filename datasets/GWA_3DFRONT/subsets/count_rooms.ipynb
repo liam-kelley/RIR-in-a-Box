{
 "cells": [
  {
   "cell_type": "code",
   "execution_count": 2,
   "metadata": {},
   "outputs": [
    {
     "name": "stdout",
     "output_type": "stream",
     "text": [
      "Number of unique mesh names: 236\n"
     ]
    }
   ],
   "source": [
    "import pandas as pd\n",
    "\n",
    "file_path = \"datasets/GWA_3DFRONT/subsets/gwa_3Dfront_train_dp_only.csv\"\n",
    "file_path = \"gwa_3Dfront_validation_dp_only.csv\"\n",
    "\n",
    "df = pd.read_csv(file_path)\n",
    "\n",
    "# group by mesh_name\n",
    "grouped = df.groupby(\"mesh_name\")\n",
    "\n",
    "# get the number of unique mesh names\n",
    "num_unique_mesh_names = len(grouped)\n",
    "print(f\"Number of unique mesh names: {num_unique_mesh_names}\")"
   ]
  }
 ],
 "metadata": {
  "kernelspec": {
   "display_name": "Python 3",
   "language": "python",
   "name": "python3"
  },
  "language_info": {
   "codemirror_mode": {
    "name": "ipython",
    "version": 3
   },
   "file_extension": ".py",
   "mimetype": "text/x-python",
   "name": "python",
   "nbconvert_exporter": "python",
   "pygments_lexer": "ipython3",
   "version": "3.8.10"
  }
 },
 "nbformat": 4,
 "nbformat_minor": 2
}
