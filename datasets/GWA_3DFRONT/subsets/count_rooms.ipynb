{
 "cells": [
  {
   "cell_type": "markdown",
   "metadata": {},
   "source": [
    "This ipynb can count how many different rooms are in each subset."
   ]
  },
  {
   "cell_type": "code",
   "execution_count": null,
   "metadata": {},
   "outputs": [],
   "source": [
    "import pandas as pd\n",
    "\n",
    "file_path = \"datasets/GWA_3DFRONT/subsets/gwa_3Dfront_train_dp_only.csv\"\n",
    "file_path = \"gwa_3Dfront_validation_dp_only.csv\"\n",
    "\n",
    "df = pd.read_csv(file_path)\n",
    "\n",
    "# group by mesh_name\n",
    "grouped = df.groupby(\"mesh_name\")\n",
    "\n",
    "# get the number of unique mesh names\n",
    "num_unique_mesh_names = len(grouped)\n",
    "print(f\"Number of unique mesh names: {num_unique_mesh_names}\")"
   ]
  }
 ],
 "metadata": {
  "kernelspec": {
   "display_name": "Python 3",
   "language": "python",
   "name": "python3"
  },
  "language_info": {
   "codemirror_mode": {
    "name": "ipython",
    "version": 3
   },
   "file_extension": ".py",
   "mimetype": "text/x-python",
   "name": "python",
   "nbconvert_exporter": "python",
   "pygments_lexer": "ipython3",
   "version": "2.7.undefined"
  }
 },
 "nbformat": 4,
 "nbformat_minor": 2
}
